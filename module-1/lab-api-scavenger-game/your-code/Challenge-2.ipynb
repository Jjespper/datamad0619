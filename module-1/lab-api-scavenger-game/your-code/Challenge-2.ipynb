{
 "cells": [
  {
   "cell_type": "code",
   "execution_count": 39,
   "metadata": {},
   "outputs": [
    {
     "name": "stdout",
     "output_type": "stream",
     "text": [
      "2\n"
     ]
    }
   ],
   "source": [
    "import json\n",
    "import requests\n",
    "\n",
    "\n",
    "with open (\"../tokenIronhack.txt\", \"r\") as miarchivo:\n",
    "    acceso = miarchivo.readlines()\n",
    "\n",
    "key = acceso[0]\n",
    "user = 'Jjespper'\n",
    "\n",
    "repo = 'ironhack-datalabs/datamad0619'\n",
    "since = '2019-06-19'\n",
    "until = '2019-06-26'\n",
    "\n",
    "\n",
    "get_commits = 'http://api.github.com/repos/{}/commits?since={}&until={}'.format(repo, since, until)\n",
    "res_commit = requests.get(get_commits, auth=(user, key))\n",
    "results_commit = res_commit.json()\n",
    "\n",
    "commits = []\n",
    "for i in range(len(results_commit)):\n",
    "    commits.append(results_commit[i]['committer'])\n",
    "\n",
    "print(len(commits))"
   ]
  },
  {
   "cell_type": "code",
   "execution_count": null,
   "metadata": {},
   "outputs": [],
   "source": []
  },
  {
   "cell_type": "code",
   "execution_count": null,
   "metadata": {},
   "outputs": [],
   "source": []
  }
 ],
 "metadata": {
  "kernelspec": {
   "display_name": "Python 3",
   "language": "python",
   "name": "python3"
  },
  "language_info": {
   "codemirror_mode": {
    "name": "ipython",
    "version": 3
   },
   "file_extension": ".py",
   "mimetype": "text/x-python",
   "name": "python",
   "nbconvert_exporter": "python",
   "pygments_lexer": "ipython3",
   "version": "3.6.8"
  }
 },
 "nbformat": 4,
 "nbformat_minor": 2
}
