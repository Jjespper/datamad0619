{
 "cells": [
  {
   "cell_type": "markdown",
   "metadata": {},
   "source": [
    "# Challenge 2"
   ]
  },
  {
   "cell_type": "markdown",
   "metadata": {},
   "source": [
    "In this lab you will partner with another student to conduct **[pair programming](https://en.wikipedia.org/wiki/Pair_programming)**. In the next 60 minutes there will be 2 coding sessions of 30 minutes each. In each sessoin, one student will be the **driver** to write the code to solve the problem while the other student will be the **observer** to watch and review. There will be several iterations of your code because the observer will help the driver review the codes and make improvements until the 15 minute session ends. After the coding session ends, the driver and observer will switch roles."
   ]
  },
  {
   "cell_type": "markdown",
   "metadata": {},
   "source": [
    "#### Import all the libraries that are necessary"
   ]
  },
  {
   "cell_type": "code",
   "execution_count": 1,
   "metadata": {},
   "outputs": [],
   "source": [
    "# import libraries here\n",
    "import pandas as pd\n",
    "import numpy as np\n",
    "import matplotlib.pyplot as plt\n",
    "import seaborn as sns\n",
    "%matplotlib inline\n"
   ]
  },
  {
   "cell_type": "markdown",
   "metadata": {},
   "source": [
    "## Preparation\n",
    "\n",
    "#### Import the `Fitbit2.csv` file and name your dataset `fitbit`"
   ]
  },
  {
   "cell_type": "code",
   "execution_count": 2,
   "metadata": {},
   "outputs": [
    {
     "data": {
      "text/html": [
       "<div>\n",
       "<style scoped>\n",
       "    .dataframe tbody tr th:only-of-type {\n",
       "        vertical-align: middle;\n",
       "    }\n",
       "\n",
       "    .dataframe tbody tr th {\n",
       "        vertical-align: top;\n",
       "    }\n",
       "\n",
       "    .dataframe thead th {\n",
       "        text-align: right;\n",
       "    }\n",
       "</style>\n",
       "<table border=\"1\" class=\"dataframe\">\n",
       "  <thead>\n",
       "    <tr style=\"text-align: right;\">\n",
       "      <th></th>\n",
       "      <th>0</th>\n",
       "      <th>1</th>\n",
       "      <th>2</th>\n",
       "      <th>3</th>\n",
       "      <th>4</th>\n",
       "    </tr>\n",
       "  </thead>\n",
       "  <tbody>\n",
       "    <tr>\n",
       "      <th>Date</th>\n",
       "      <td>2015-05-08</td>\n",
       "      <td>2015-05-09</td>\n",
       "      <td>2015-05-10</td>\n",
       "      <td>2015-05-11</td>\n",
       "      <td>2015-05-12</td>\n",
       "    </tr>\n",
       "    <tr>\n",
       "      <th>Calorie burned</th>\n",
       "      <td>1934</td>\n",
       "      <td>3631</td>\n",
       "      <td>3204</td>\n",
       "      <td>2673</td>\n",
       "      <td>2495</td>\n",
       "    </tr>\n",
       "    <tr>\n",
       "      <th>Steps</th>\n",
       "      <td>905</td>\n",
       "      <td>18925</td>\n",
       "      <td>14228</td>\n",
       "      <td>6756</td>\n",
       "      <td>502</td>\n",
       "    </tr>\n",
       "    <tr>\n",
       "      <th>Distance</th>\n",
       "      <td>0.65</td>\n",
       "      <td>14.11</td>\n",
       "      <td>10.57</td>\n",
       "      <td>5.02</td>\n",
       "      <td>3.73</td>\n",
       "    </tr>\n",
       "    <tr>\n",
       "      <th>Floors</th>\n",
       "      <td>0</td>\n",
       "      <td>4</td>\n",
       "      <td>1</td>\n",
       "      <td>8</td>\n",
       "      <td>1</td>\n",
       "    </tr>\n",
       "    <tr>\n",
       "      <th>Minutes Sedentary</th>\n",
       "      <td>1.355</td>\n",
       "      <td>611</td>\n",
       "      <td>602</td>\n",
       "      <td>749</td>\n",
       "      <td>876</td>\n",
       "    </tr>\n",
       "    <tr>\n",
       "      <th>Minutes Lightly Active</th>\n",
       "      <td>46</td>\n",
       "      <td>316</td>\n",
       "      <td>226</td>\n",
       "      <td>190</td>\n",
       "      <td>171</td>\n",
       "    </tr>\n",
       "    <tr>\n",
       "      <th>Minutes Fairly Active</th>\n",
       "      <td>0</td>\n",
       "      <td>61</td>\n",
       "      <td>14</td>\n",
       "      <td>23</td>\n",
       "      <td>0</td>\n",
       "    </tr>\n",
       "    <tr>\n",
       "      <th>Minutes Very Active</th>\n",
       "      <td>0</td>\n",
       "      <td>60</td>\n",
       "      <td>77</td>\n",
       "      <td>4</td>\n",
       "      <td>0</td>\n",
       "    </tr>\n",
       "    <tr>\n",
       "      <th>Activity Calories</th>\n",
       "      <td>1680</td>\n",
       "      <td>2248</td>\n",
       "      <td>1719</td>\n",
       "      <td>9620</td>\n",
       "      <td>7360</td>\n",
       "    </tr>\n",
       "    <tr>\n",
       "      <th>MinutesOfSleep</th>\n",
       "      <td>384</td>\n",
       "      <td>454</td>\n",
       "      <td>387</td>\n",
       "      <td>311</td>\n",
       "      <td>407</td>\n",
       "    </tr>\n",
       "    <tr>\n",
       "      <th>MinutesOfBeingAwake</th>\n",
       "      <td>26</td>\n",
       "      <td>35</td>\n",
       "      <td>46</td>\n",
       "      <td>31</td>\n",
       "      <td>65</td>\n",
       "    </tr>\n",
       "    <tr>\n",
       "      <th>NumberOfAwakings</th>\n",
       "      <td>23</td>\n",
       "      <td>21</td>\n",
       "      <td>25</td>\n",
       "      <td>21</td>\n",
       "      <td>44</td>\n",
       "    </tr>\n",
       "    <tr>\n",
       "      <th>LengthOfRestInMinutes</th>\n",
       "      <td>417</td>\n",
       "      <td>491</td>\n",
       "      <td>436</td>\n",
       "      <td>350</td>\n",
       "      <td>491</td>\n",
       "    </tr>\n",
       "    <tr>\n",
       "      <th>Distance_miles</th>\n",
       "      <td>0.403891</td>\n",
       "      <td>8.76754</td>\n",
       "      <td>6.56789</td>\n",
       "      <td>3.11928</td>\n",
       "      <td>2.31771</td>\n",
       "    </tr>\n",
       "    <tr>\n",
       "      <th>Days</th>\n",
       "      <td>Friday</td>\n",
       "      <td>Saturday</td>\n",
       "      <td>Sunday</td>\n",
       "      <td>Monday</td>\n",
       "      <td>Tuesday</td>\n",
       "    </tr>\n",
       "    <tr>\n",
       "      <th>Days_encoded</th>\n",
       "      <td>4</td>\n",
       "      <td>5</td>\n",
       "      <td>6</td>\n",
       "      <td>0</td>\n",
       "      <td>1</td>\n",
       "    </tr>\n",
       "    <tr>\n",
       "      <th>Work_or_Weekend</th>\n",
       "      <td>1</td>\n",
       "      <td>0</td>\n",
       "      <td>0</td>\n",
       "      <td>1</td>\n",
       "      <td>1</td>\n",
       "    </tr>\n",
       "    <tr>\n",
       "      <th>Hours Sleep</th>\n",
       "      <td>6.4</td>\n",
       "      <td>7.56667</td>\n",
       "      <td>6.45</td>\n",
       "      <td>5.18333</td>\n",
       "      <td>6.78333</td>\n",
       "    </tr>\n",
       "    <tr>\n",
       "      <th>Sleep efficiency</th>\n",
       "      <td>92.0863</td>\n",
       "      <td>92.4644</td>\n",
       "      <td>88.7615</td>\n",
       "      <td>88.8571</td>\n",
       "      <td>82.8921</td>\n",
       "    </tr>\n",
       "    <tr>\n",
       "      <th>Yesterday_sleep</th>\n",
       "      <td>0</td>\n",
       "      <td>6.4</td>\n",
       "      <td>7.56667</td>\n",
       "      <td>6.45</td>\n",
       "      <td>5.18333</td>\n",
       "    </tr>\n",
       "    <tr>\n",
       "      <th>Yesterday_sleep_efficiency</th>\n",
       "      <td>0</td>\n",
       "      <td>92.0863</td>\n",
       "      <td>92.4644</td>\n",
       "      <td>88.7615</td>\n",
       "      <td>88.8571</td>\n",
       "    </tr>\n",
       "    <tr>\n",
       "      <th>Months</th>\n",
       "      <td>May</td>\n",
       "      <td>May</td>\n",
       "      <td>May</td>\n",
       "      <td>May</td>\n",
       "      <td>May</td>\n",
       "    </tr>\n",
       "    <tr>\n",
       "      <th>Months_encoded</th>\n",
       "      <td>5</td>\n",
       "      <td>5</td>\n",
       "      <td>5</td>\n",
       "      <td>5</td>\n",
       "      <td>5</td>\n",
       "    </tr>\n",
       "  </tbody>\n",
       "</table>\n",
       "</div>"
      ],
      "text/plain": [
       "                                     0           1           2           3  \\\n",
       "Date                        2015-05-08  2015-05-09  2015-05-10  2015-05-11   \n",
       "Calorie burned                    1934        3631        3204        2673   \n",
       "Steps                              905       18925       14228        6756   \n",
       "Distance                          0.65       14.11       10.57        5.02   \n",
       "Floors                               0           4           1           8   \n",
       "Minutes Sedentary                1.355         611         602         749   \n",
       "Minutes Lightly Active              46         316         226         190   \n",
       "Minutes Fairly Active                0          61          14          23   \n",
       "Minutes Very Active                  0          60          77           4   \n",
       "Activity Calories                 1680        2248        1719        9620   \n",
       "MinutesOfSleep                     384         454         387         311   \n",
       "MinutesOfBeingAwake                 26          35          46          31   \n",
       "NumberOfAwakings                    23          21          25          21   \n",
       "LengthOfRestInMinutes              417         491         436         350   \n",
       "Distance_miles                0.403891     8.76754     6.56789     3.11928   \n",
       "Days                            Friday    Saturday      Sunday      Monday   \n",
       "Days_encoded                         4           5           6           0   \n",
       "Work_or_Weekend                      1           0           0           1   \n",
       "Hours Sleep                        6.4     7.56667        6.45     5.18333   \n",
       "Sleep efficiency               92.0863     92.4644     88.7615     88.8571   \n",
       "Yesterday_sleep                      0         6.4     7.56667        6.45   \n",
       "Yesterday_sleep_efficiency           0     92.0863     92.4644     88.7615   \n",
       "Months                             May         May         May         May   \n",
       "Months_encoded                       5           5           5           5   \n",
       "\n",
       "                                     4  \n",
       "Date                        2015-05-12  \n",
       "Calorie burned                    2495  \n",
       "Steps                              502  \n",
       "Distance                          3.73  \n",
       "Floors                               1  \n",
       "Minutes Sedentary                  876  \n",
       "Minutes Lightly Active             171  \n",
       "Minutes Fairly Active                0  \n",
       "Minutes Very Active                  0  \n",
       "Activity Calories                 7360  \n",
       "MinutesOfSleep                     407  \n",
       "MinutesOfBeingAwake                 65  \n",
       "NumberOfAwakings                    44  \n",
       "LengthOfRestInMinutes              491  \n",
       "Distance_miles                 2.31771  \n",
       "Days                           Tuesday  \n",
       "Days_encoded                         1  \n",
       "Work_or_Weekend                      1  \n",
       "Hours Sleep                    6.78333  \n",
       "Sleep efficiency               82.8921  \n",
       "Yesterday_sleep                5.18333  \n",
       "Yesterday_sleep_efficiency     88.8571  \n",
       "Months                             May  \n",
       "Months_encoded                       5  "
      ]
     },
     "execution_count": 2,
     "metadata": {},
     "output_type": "execute_result"
    }
   ],
   "source": [
    "fitbit=pd.read_csv('Fitbit2.csv')\n",
    "\n",
    "fitbit.head().T"
   ]
  },
  {
   "cell_type": "markdown",
   "metadata": {},
   "source": [
    "## Coding Session I - 30 minutes\n",
    "\n",
    "From the Fitbit data, we want to visually understand: \n",
    "\n",
    "1. **How the average number of steps change by month. Use the appropriate visualization to show the median steps by month?**\n",
    "1. **Is Fitbitter more active on weekend or workdays?**\n",
    "\n",
    "##### All plots must be in the same jupyter notebook cell.\n",
    "\n",
    "Hints:\n",
    "\n",
    "- Use `Months_encoded` and `Week_or Weekend` columns\n",
    "- Use `matplolib.pyplot` object oriented API\n",
    "- Set your size figure to `12,4`\n",
    "- Explore `plt.sca`\n",
    "- Explore `plt.xticks`\n",
    "- Save your figures"
   ]
  },
  {
   "cell_type": "code",
   "execution_count": 3,
   "metadata": {
    "scrolled": true
   },
   "outputs": [
    {
     "data": {
      "image/png": "[encoded data removed]",
      "text/plain": [
       "<Figure size 864x288 with 1 Axes>"
      ]
     },
     "metadata": {
      "needs_background": "light"
     },
     "output_type": "display_data"
    },
    {
     "data": {
      "image/png": "[encoded data removed]",
      "text/plain": [
       "<Figure size 864x288 with 1 Axes>"
      ]
     },
     "metadata": {
      "needs_background": "light"
     },
     "output_type": "display_data"
    }
   ],
   "source": [
    "# Driver 1 enter codes here\n",
    "import calendar\n",
    "\n",
    "\n",
    "steps=fitbit[\"Steps\"]\n",
    "months=fitbit[\"Months_encoded\"]\n",
    "Weekend=fitbit[\"Work_or_Weekend\"]\n",
    "\n",
    "media = fitbit.groupby('Months_encoded', as_index=False)['Steps'].mean()\n",
    "mediana = fitbit.groupby('Months_encoded', as_index=False)['Steps'].median()\n",
    "\n",
    "plt.figure(figsize=(12,4))\n",
    "plt.plot(media[\"Months_encoded\"], media[\"Steps\"], 'o-')\n",
    "plt.xticks(np.arange(13), calendar.month_name[0:13], rotation=90)\n",
    "plt.show()\n",
    "\n",
    "plt.figure(figsize=(12,4))\n",
    "activo = fitbit.groupby('Work_or_Weekend', as_index=False)['Calorie burned'].mean()\n",
    "plt.bar(activo[\"Work_or_Weekend\"], activo[\"Calorie burned\"])\n",
    "plt.xticks(np.arange(2))\n",
    "plt.show()"
   ]
  },
  {
   "cell_type": "markdown",
   "metadata": {},
   "source": [
    "## Coding Session II - 30 minutes\n",
    "\n",
    "**Write a loop to plot 3 scatter plots of the following features:**\n",
    "\n",
    "1. **`Minutes Lightly Active`  vs `Steps`**\n",
    "1. **`Minutes Very Active` vs `Steps`**\n",
    "1. **`Minutes Sedentary` vs `Steps`**"
   ]
  },
  {
   "cell_type": "code",
   "execution_count": 10,
   "metadata": {},
   "outputs": [
    {
     "data": {
      "image/png": "[encoded data removed]",
      "text/plain": [
       "<Figure size 432x288 with 1 Axes>"
      ]
     },
     "metadata": {
      "needs_background": "light"
     },
     "output_type": "display_data"
    },
    {
     "data": {
      "image/png": "[encoded data removed]",
      "text/plain": [
       "<Figure size 432x288 with 1 Axes>"
      ]
     },
     "metadata": {
      "needs_background": "light"
     },
     "output_type": "display_data"
    },
    {
     "data": {
      "image/png": "[encoded data removed]",
      "text/plain": [
       "<Figure size 432x288 with 1 Axes>"
      ]
     },
     "metadata": {
      "needs_background": "light"
     },
     "output_type": "display_data"
    },
    {
     "data": {
      "image/png": "[encoded data removed]",
      "text/plain": [
       "<Figure size 432x288 with 1 Axes>"
      ]
     },
     "metadata": {
      "needs_background": "light"
     },
     "output_type": "display_data"
    }
   ],
   "source": [
    "# Driver 2 enter codes here\n",
    "scatters = fitbit[[\"Steps\", \"Minutes Lightly Active\", \"Minutes Very Active\", \"Minutes Sedentary\"]]\n",
    "\n",
    "\n",
    "st = fitbit[\"Steps\"]\n",
    "mnl = fitbit[\"Minutes Lightly Active\"]\n",
    "ms = fitbit[\"Minutes Sedentary\"]\n",
    "sed = fitbit[\"Minutes Sedentary\"]\n",
    "\n",
    "a = [mnl,ms,sed]\n",
    "for i in scatters[1:]:\n",
    "    plt.scatter(x=i, y=\"Steps\")\n",
    "    plt.show()\n",
    "    \n",
    "#CASI\n",
    "#pero no"
   ]
  },
  {
   "cell_type": "code",
   "execution_count": null,
   "metadata": {},
   "outputs": [],
   "source": []
  }
 ],
 "metadata": {
  "kernelspec": {
   "display_name": "Python 3",
   "language": "python",
   "name": "python3"
  },
  "language_info": {
   "codemirror_mode": {
    "name": "ipython",
    "version": 3
   },
   "file_extension": ".py",
   "mimetype": "text/x-python",
   "name": "python",
   "nbconvert_exporter": "python",
   "pygments_lexer": "ipython3",
   "version": "3.6.8"
  }
 },
 "nbformat": 4,
 "nbformat_minor": 2
}
